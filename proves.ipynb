{
 "cells": [
  {
   "cell_type": "code",
   "execution_count": 1,
   "metadata": {},
   "outputs": [],
   "source": [
    "#otput_3\n",
    "avall=1\n",
    "amunt=-1\n",
    "output3=[(0.00,0.10, avall),(0.25,0.35, avall),(1.00,1.10, avall)\n",
    "         ,(1.50,2.00, avall),(3.30,3.40, avall),(3.30,3.40, avall)\n",
    "         ,(4.15,4.25, avall),(5.40,5.50, avall),(7.20,7.30, avall)\n",
    "         ,(7.40,7.50, avall),(9.25,9.35, amunt),(11.25,11.35, amunt)\n",
    "         ,(11.35,11.45, amunt)]\n",
    "\n"
   ]
  },
  {
   "cell_type": "code",
   "execution_count": 2,
   "metadata": {},
   "outputs": [],
   "source": [
    "def frame_a_t(frame):\n",
    "    frame_per_segon=30\n",
    "    segons_totals=frame//frame_per_segon\n",
    "    minuts=segons_totals//60\n",
    "    segons=segons_totals%60\n",
    "    temps=minuts+segons/100\n",
    "    return temps"
   ]
  },
  {
   "cell_type": "code",
   "execution_count": 3,
   "metadata": {},
   "outputs": [],
   "source": [
    "#output7\n",
    "output7=[(0.00,0.10, amunt),(0.25,0.35, amunt),(1.00,1.10, avall),(1.20,1.30, avall)\n",
    "         ,(1.35,1.45, amunt),(3.10,3.20, amunt),(3.40,3.50, amunt),(3.52,4.02, amunt)]\n"
   ]
  },
  {
   "cell_type": "code",
   "execution_count": 4,
   "metadata": {},
   "outputs": [],
   "source": [
    "output2=[(0.05,0.15, avall),(0.10,0.20, avall),(0.15,0.25, avall),(0.20,0.30, avall)\n",
    "         ,(0.55,1.05, avall),(2.10,2.20, amunt),(2.10,2.20, amunt),(2.43,2.53, amunt)\n",
    "         ,(3.37,3.48, amunt),(6.13,6.23, amunt),(6.47,6.57, avall),(6.47,6.57, avall)]\n"
   ]
  },
  {
   "cell_type": "code",
   "execution_count": 5,
   "metadata": {},
   "outputs": [],
   "source": [
    "output5=[(0.13,0.23, avall),(0.57,1.03, avall),(1.45,1.55, avall),(2.37,2.47, avall),(2.50,3.00, avall)\n",
    "         ,(4.13,4.23, avall),(4.25,4.35, avall),(5.10,5.15, avall),(5.10,5.20, avall),(5.30,5.40, avall)\n",
    "         ,(5.37,5.47, avall),(6.14,6.24, amunt),(8.02,8.18, amunt),(8.50,9.00, avall),(9.30,10.00, amunt),\n",
    "         (10.43,10.53, avall),(10.40,10.55, amunt),(11.20,11.30, avall),(12.35,12.40, avall),\n",
    "         (13.35,13.40, amunt),(14.05,14.10, avall),(14.20,14.30, avall),(15.15,15.20, amunt),\n",
    "         (16.00,16.05, avall),(18.55,19.05, avall),(19.35,19.45, avall),(21.00,21.05, amunt),\n",
    "         (21.50,22.00, avall),(22.40,22.50, avall),(22.50,23.00, avall),(23.00,23.10, avall),\n",
    "         (24.00,24.10, amunt),(24.45,24.55, amunt),(25.00,25.10, amunt),(25.15,25.25, avall),\n",
    "         (26.40,26.45, avall),(29.35,29.45, avall),(30.55,31.05, avall),(31.00,31.10, avall),\n",
    "         (31.10,31.15, avall),(31.20,31.25, avall),(31.25,31.35, avall),(31.45,31.55, amunt),\n",
    "         (32.20,32.30, amunt),(32.25,32.35, avall),(32.35,32.45, avall),(32.55,33.05, avall),\n",
    "         (33.10,33.20, avall),(33.20,33.30, avall),(33.30,33.40, avall),(33.35,33.45, avall),\n",
    "         (33.50,34.00, avall),(34.25,34.35, avall),(35.10,35.20, avall),(35.30,35.35, avall),\n",
    "         (35.40,35.45, avall),(35.50,36.00, avall),(36.40,46.45, avall),(36.50,37.00, avall),\n",
    "         (37.20,37.25, avall),(37.20,37.30, avall),(37.45,37.50, avall),(38.00,38.05, avall),\n",
    "         (38.45,38.55, avall),(38.50,39.00, avall),(38.55,39.05, avall),(39.00,39.05, avall),\n",
    "         (39.40,39.50, avall),(40.00,40.10, amunt),(40.40,40.50, avall),(40.40,40.50, avall),\n",
    "         (40.50,41.00, avall),(41.35,41.45, avall),(41.35,41.45, avall),(42.00,42.10, avall),\n",
    "         (42.15,42.25, avall),(42.15,42.25, avall),(42.50,43.00, amunt),(43.05,43.15, avall),\n",
    "         (43.25,43.35, avall),(43.45,43.55, avall),(44.00,44.10, avall),(44.30,44.40, avall),\n",
    "         (45.00,45.10, avall),(45.10,45.15, avall),(45.15,45.20, amunt),(46.50,46.55, avall),\n",
    "         (47.10,47.15, avall),(47.35,47.45, avall),(47.35,47.45, amunt),(48.10,48.20, avall),\n",
    "         (48.20,48.25, avall),(48.20,48.30, avall),(48.35,48.45, avall),(48.45,48.55, avall),\n",
    "         (49.15,49.25, avall),(50.45,40.55, avall),(51.15,51.25, avall),(51.30,51.35, avall),\n",
    "         (51.50,52.00, amunt),(52.05,52.10, avall),(52.45,52.55, avall),(53.10,53.20, avall),\n",
    "         (53.20,53.30, avall),(54.00,54.05, avall),(54.10,54.15, avall),(54.20,54.30, avall),\n",
    "         (55.15,55.20, amunt),(56.30,56.40, avall),(57.20,57.30, avall),(57.25,57.30, avall),\n",
    "         (57.35,57.40, avall),(57.50,57.55, avall),(58.00,58.10, avall),(58.50,59.00, avall),\n",
    "         (59.00,59.10, avall),(59.35,59.45, avall),(59.50,60.00, avall),(60.05,60.10, avall),\n",
    "         (60.55,61.05, avall),(62.05,62.15, avall),(63.00,63.10, avall),(63.20,63.30, avall),\n",
    "         (64.15,64.25, avall)]\n"
   ]
  },
  {
   "cell_type": "code",
   "execution_count": 6,
   "metadata": {},
   "outputs": [],
   "source": [
    "#de output6 nomes sabem que Baixada 133 Pujada 6"
   ]
  },
  {
   "cell_type": "code",
   "execution_count": 20,
   "metadata": {},
   "outputs": [],
   "source": [
    "output7=[(0.00,0.10, amunt),(0.25,0.35, amunt),(1.00,1.10, avall),(1.20,1.30, avall)\n",
    "         ,(1.35,1.45, amunt),(3.10,3.20, amunt),(3.40,3.50, amunt),(3.52,4.02, amunt)]"
   ]
  },
  {
   "cell_type": "code",
   "execution_count": 81,
   "metadata": {},
   "outputs": [],
   "source": [
    "with open('output7 resultados.txt') as f:\n",
    "    lines = f.readlines()"
   ]
  },
  {
   "cell_type": "code",
   "execution_count": 82,
   "metadata": {},
   "outputs": [],
   "source": [
    "t=[]\n",
    "for deteccio in lines:\n",
    "    cas=deteccio.split(' ')\n",
    "    if 'puja' in cas[0]:\n",
    "        t.append((frame_a_t(int(cas[2])),-1))\n",
    "    elif 'bai' in cas[0]:\n",
    "        t.append((frame_a_t(int(cas[2])),1))"
   ]
  },
  {
   "cell_type": "code",
   "execution_count": 84,
   "metadata": {},
   "outputs": [
    {
     "name": "stdout",
     "output_type": "stream",
     "text": [
      "detectat: 6 2\n",
      "real:     6 2\n",
      "accuracy:  1.0\n",
      "hi ha 0 de cotxes respecte la ocupacio real\n"
     ]
    }
   ],
   "source": [
    "correcte=output7\n",
    "correctes=0\n",
    "\n",
    "y_amunt=0\n",
    "y_avall=0\n",
    "for real in correcte:\n",
    "    if real[2]!=1:\n",
    "        y_amunt+=1\n",
    "    else:\n",
    "        y_avall+=1\n",
    "t_amunt=0\n",
    "t_avall=0\n",
    "for deteccio in t:\n",
    "    if deteccio[1]!=1:\n",
    "        t_amunt+=1\n",
    "    else:\n",
    "        t_avall+=1\n",
    "print(\"detectat:\",t_amunt,t_avall)\n",
    "print(\"real:    \",y_amunt,y_avall)\n",
    "\n",
    "for deteccio in t:\n",
    "    trobat=False\n",
    "    n=0\n",
    "    while n<len(correcte) and not trobat:\n",
    "        if deteccio[0]>=correcte[n][0] and deteccio[0]<=correcte[n][1]:\n",
    "            if deteccio[1]==correcte[n][2]:\n",
    "                trobat=True\n",
    "        n+=1\n",
    "    \n",
    "    if trobat:\n",
    "        correcte=correcte[:n-1]+correcte[n:]\n",
    "        correctes+=1\n",
    "\n",
    "\n",
    "print(\"accuracy: \",correctes/len(output7))\n",
    "print(\"hi ha\",-y_avall+y_amunt-t_amunt+t_avall,\"de cotxes respecte la ocupacio real\")"
   ]
  },
  {
   "cell_type": "markdown",
   "metadata": {},
   "source": [
    "output2\n",
    "detectat: 3 8\n",
    "real:     5 7\n",
    "accuracy:  1.25\n",
    "hi ha 3 de cotxes respecte la ocupacio real\n",
    "output3\n",
    "detectat: 3 10\n",
    "real:     3 10\n",
    "accuracy:  1.5\n",
    "hi ha 0 de cotxes respecte la ocupacio real\n",
    "output5\n",
    "detectat: 19 56\n",
    "real:     18 106\n",
    "accuracy:  3.625\n",
    "hi ha -51 de cotxes respecte la ocupacio real\n",
    "output6\n",
    "detectat: 13 108\n",
    "output7\n",
    "detectat: 6 2\n",
    "real:     6 2\n",
    "accuracy:  1.0\n",
    "hi ha 0 de cotxes respecte la ocupacio real"
   ]
  }
 ],
 "metadata": {
  "kernelspec": {
   "display_name": "Python 3",
   "language": "python",
   "name": "python3"
  },
  "language_info": {
   "codemirror_mode": {
    "name": "ipython",
    "version": 3
   },
   "file_extension": ".py",
   "mimetype": "text/x-python",
   "name": "python",
   "nbconvert_exporter": "python",
   "pygments_lexer": "ipython3",
   "version": "3.7.8"
  }
 },
 "nbformat": 4,
 "nbformat_minor": 2
}
