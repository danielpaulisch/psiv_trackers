{
 "cells": [
  {
   "cell_type": "code",
   "execution_count": 77,
   "metadata": {},
   "outputs": [],
   "source": [
    "import cv2 as cv\n",
    "import os\n",
    "import numpy as np\n",
    "#import tracker1 as tr\n",
    "import tracker1\n",
    "#rom tracker1 import Objecte as o"
   ]
  },
  {
   "cell_type": "code",
   "execution_count": 197,
   "metadata": {},
   "outputs": [],
   "source": [
    "#tracker\n",
    "\n",
    "class Tracker():\n",
    "    \n",
    "    def __init__(self, objectes = [], ids = []):\n",
    "        self._objectes = []\n",
    "        self._ids = []\n",
    "        \n",
    "\n",
    "\n",
    "    def deteccio(self, objectes_detectats):\n",
    "        \n",
    "        if self._objectes == []:\n",
    "            for i, new_object in enumerate(objectes_detectats):              \n",
    "                id = len(self._ids) + 1\n",
    "                new_object._id = id\n",
    "                \n",
    "                self._ids.append(id)\n",
    "                self._objectes.append(new_object)\n",
    "        \n",
    "        \n",
    "        else:\n",
    "            matriu_distancies = np.zeros( (len(self._objectes), len(objectes_detectats)))\n",
    "            \n",
    "            for i, objecte in enumerate(self._objectes):\n",
    "                for j, objecte_candidat in enumerate(objectes_detectats):\n",
    "                    matriu_distancies[i,j] = objecte.dist_euclidean(objecte_candidat)\n",
    "            \n",
    "            \n",
    "            valor_maximo = matriu_distancies.sum()\n",
    "            \n",
    "            if len(self._objectes) <= len(objectes_detectats):\n",
    "                for i in range (len(self._objectes)):\n",
    "                    ix_objectes, ix_detactats = np.where(matriu_distancies == np.min(matriu_distancies))\n",
    "                    ix_objectes, ix_detactats = ix_objectes[-1], ix_detactats[-1]\n",
    "                    \n",
    "                    \n",
    "                    self._objectes[int(ix_objectes)]._centroide = objectes_detectats[int(ix_detactats)]._centroide\n",
    "                    \n",
    "                    \n",
    "                    matriu_distancies[ix_objectes, :] = valor_maximo\n",
    "                    matriu_distancies[:, ix_detactats] = valor_maximo\n",
    "                    \n",
    "                for i in range(len(objectes_detectats) - len(self._objectes) ):\n",
    "                    ix_objectes, ix_detactats = np.where(matriu_distancies == np.min(matriu_distancies))\n",
    "                    \n",
    "                    new_object = objectes_detectats[int(ix_detactats[-1])]\n",
    "                    id = len(self._ids) + 1\n",
    "                    new_object._id = id\n",
    "                    self._objectes.append(new_object)\n",
    "                    self._ids.append(id)\n",
    "                    \n",
    "                    matriu_distancies[ix_objectes, :] = valor_maximo\n",
    "                    matriu_distancies[:, ix_detactats] = valor_maximo\n",
    "            \n",
    "                \n",
    "            \n",
    "            \n",
    "            \n",
    "class Objecte():\n",
    "    \n",
    "    def __init__(self, centroide = (0,0), id = None):\n",
    "        self._centroide = centroide\n",
    "        self._id = id\n",
    "        \n",
    "    \n",
    "    def dist_euclidean(self, altre_centroide):\n",
    "        dist = (self._centroide[0] - altre_centroide._centroide[0]) ** 2 + (self._centroide[1] - altre_centroide._centroide[1]) ** 2\n",
    "        return dist\n"
   ]
  },
  {
   "cell_type": "code",
   "execution_count": 138,
   "metadata": {},
   "outputs": [],
   "source": [
    "tracking = Tracker()\n"
   ]
  },
  {
   "cell_type": "code",
   "execution_count": 54,
   "metadata": {},
   "outputs": [
    {
     "ename": "KeyboardInterrupt",
     "evalue": "",
     "output_type": "error",
     "traceback": [
      "\u001b[1;31m---------------------------------------------------------------------------\u001b[0m",
      "\u001b[1;31mKeyboardInterrupt\u001b[0m                         Traceback (most recent call last)",
      "\u001b[1;32m<ipython-input-54-bda5e8eed60c>\u001b[0m in \u001b[0;36m<module>\u001b[1;34m\u001b[0m\n\u001b[0;32m      3\u001b[0m \u001b[0mpath\u001b[0m \u001b[1;33m=\u001b[0m \u001b[1;34m'C:/Users/LENOVO/Documents/uni/4t/psiv/tracking/psiv_trackers/frames/'\u001b[0m\u001b[1;33m\u001b[0m\u001b[1;33m\u001b[0m\u001b[0m\n\u001b[0;32m      4\u001b[0m \u001b[1;32mwhile\u001b[0m \u001b[1;33m(\u001b[0m \u001b[0mcapture\u001b[0m\u001b[1;33m.\u001b[0m\u001b[0misOpened\u001b[0m\u001b[1;33m(\u001b[0m\u001b[1;33m)\u001b[0m\u001b[1;33m)\u001b[0m\u001b[1;33m:\u001b[0m\u001b[1;33m\u001b[0m\u001b[1;33m\u001b[0m\u001b[0m\n\u001b[1;32m----> 5\u001b[1;33m     \u001b[0mret\u001b[0m\u001b[1;33m,\u001b[0m \u001b[0mframe\u001b[0m \u001b[1;33m=\u001b[0m \u001b[0mcapture\u001b[0m\u001b[1;33m.\u001b[0m\u001b[0mread\u001b[0m\u001b[1;33m(\u001b[0m\u001b[1;33m)\u001b[0m\u001b[1;33m\u001b[0m\u001b[1;33m\u001b[0m\u001b[0m\n\u001b[0m\u001b[0;32m      6\u001b[0m     \u001b[1;32mif\u001b[0m \u001b[1;33m(\u001b[0m\u001b[0mret\u001b[0m \u001b[1;33m==\u001b[0m \u001b[1;32mTrue\u001b[0m\u001b[1;33m)\u001b[0m\u001b[1;33m:\u001b[0m\u001b[1;33m\u001b[0m\u001b[1;33m\u001b[0m\u001b[0m\n\u001b[0;32m      7\u001b[0m         \u001b[0mcv\u001b[0m\u001b[1;33m.\u001b[0m\u001b[0mimwrite\u001b[0m\u001b[1;33m(\u001b[0m\u001b[0mpath\u001b[0m \u001b[1;33m+\u001b[0m  \u001b[1;34m'img_%010d.jpg'\u001b[0m \u001b[1;33m%\u001b[0m \u001b[0mcount\u001b[0m\u001b[1;33m,\u001b[0m \u001b[0mframe\u001b[0m\u001b[1;33m)\u001b[0m\u001b[1;33m\u001b[0m\u001b[1;33m\u001b[0m\u001b[0m\n",
      "\u001b[1;31mKeyboardInterrupt\u001b[0m: "
     ]
    }
   ],
   "source": [
    "capture = cv.VideoCapture('output7.mp4')\n",
    "count = 0\n",
    "path = 'C:/Users/LENOVO/Documents/uni/4t/psiv/tracking/psiv_trackers/frames/'\n",
    "while ( capture.isOpened()):\n",
    "    ret, frame = capture.read()\n",
    "    if (ret == True):\n",
    "        cv.imwrite(path +  'img_%010d.jpg' % count, frame)\n",
    "        count += 1\n",
    "        if cv.waitKey(1) == ord('s'):\n",
    "            break\n",
    "    else:\n",
    "        break\n",
    "capture.release()\n",
    "cv.destroyAllWindows()\n",
    "\n",
    "#guardar imagene en un archivo"
   ]
  },
  {
   "cell_type": "code",
   "execution_count": 206,
   "metadata": {},
   "outputs": [
    {
     "name": "stdout",
     "output_type": "stream",
     "text": [
      "[]\n"
     ]
    },
    {
     "ename": "KeyboardInterrupt",
     "evalue": "",
     "output_type": "error",
     "traceback": [
      "\u001b[1;31m---------------------------------------------------------------------------\u001b[0m",
      "\u001b[1;31mKeyboardInterrupt\u001b[0m                         Traceback (most recent call last)",
      "\u001b[1;32m<ipython-input-206-a95b5aaabbb6>\u001b[0m in \u001b[0;36m<module>\u001b[1;34m\u001b[0m\n\u001b[0;32m     17\u001b[0m \u001b[1;33m\u001b[0m\u001b[0m\n\u001b[0;32m     18\u001b[0m \u001b[1;33m\u001b[0m\u001b[0m\n\u001b[1;32m---> 19\u001b[1;33m     \u001b[0mfgmaskMOG\u001b[0m \u001b[1;33m=\u001b[0m \u001b[0mfgbg\u001b[0m\u001b[1;33m.\u001b[0m\u001b[0mapply\u001b[0m\u001b[1;33m(\u001b[0m\u001b[0mroi\u001b[0m\u001b[1;33m)\u001b[0m\u001b[1;33m\u001b[0m\u001b[1;33m\u001b[0m\u001b[0m\n\u001b[0m\u001b[0;32m     20\u001b[0m \u001b[1;33m\u001b[0m\u001b[0m\n\u001b[0;32m     21\u001b[0m     \u001b[0mtratada\u001b[0m \u001b[1;33m=\u001b[0m \u001b[0mcv\u001b[0m\u001b[1;33m.\u001b[0m\u001b[0mdilate\u001b[0m\u001b[1;33m(\u001b[0m\u001b[0mfgmaskMOG\u001b[0m\u001b[1;33m,\u001b[0m \u001b[0mnp\u001b[0m\u001b[1;33m.\u001b[0m\u001b[0mones\u001b[0m\u001b[1;33m(\u001b[0m\u001b[1;33m(\u001b[0m\u001b[1;36m3\u001b[0m\u001b[1;33m,\u001b[0m\u001b[1;36m3\u001b[0m\u001b[1;33m)\u001b[0m\u001b[1;33m)\u001b[0m\u001b[1;33m,\u001b[0m \u001b[0miterations\u001b[0m\u001b[1;33m=\u001b[0m\u001b[1;36m7\u001b[0m\u001b[1;33m)\u001b[0m\u001b[1;33m\u001b[0m\u001b[1;33m\u001b[0m\u001b[0m\n",
      "\u001b[1;31mKeyboardInterrupt\u001b[0m: "
     ]
    }
   ],
   "source": [
    "capture = cv.VideoCapture('output7.mp4')\n",
    "fgbg = cv.bgsegm.createBackgroundSubtractorMOG()\n",
    "\n",
    "tracking = Tracker()\n",
    "\n",
    "print(tracking._ids)\n",
    "\n",
    "while ( capture.isOpened()):\n",
    "    ret, frame = capture.read()\n",
    "    if (ret == False): break\n",
    "    \n",
    "    \n",
    "    altura, ancho, _ = frame.shape\n",
    "    \n",
    "    \n",
    "    roi = frame[400:, :]\n",
    "    \n",
    "    \n",
    "    fgmaskMOG = fgbg.apply(roi)\n",
    "     \n",
    "    tratada = cv.dilate(fgmaskMOG, np.ones((3,3)), iterations=7)\n",
    "    tratada = cv.morphologyEx(tratada,cv.MORPH_OPEN, np.ones((30,30)))\n",
    "    \n",
    "    \n",
    "    #detectar objeto\n",
    "    objetetos_detectados = []\n",
    "    contours, _ = cv.findContours(tratada, cv.RETR_TREE, cv.CHAIN_APPROX_SIMPLE)\n",
    "    for cnt in contours:\n",
    "        area = cv.contourArea(cnt)\n",
    "        if area > 4000:\n",
    "        #Calculate area remove small elements (personas/motos)\n",
    "            #cv.drawContours(roi, [cnt], -1, (0, 255, 0), 2)\n",
    "            x, y, w, h = cv.boundingRect(cnt)\n",
    "            \n",
    "            if 0.6 < w/h and   w/h < 1.5:\n",
    "                cv.rectangle(roi, (x,y), (x + w, y + h), (0, 255, 0), 3)\n",
    "                \n",
    "                centroide = (int(x + w/2) ,int(y + h/2))\n",
    "                \n",
    "                objecte = Objecte(centroide)\n",
    "                objetetos_detectados.append(objecte)\n",
    "            \n",
    "            tracking.deteccio(objetetos_detectados)\n",
    "            \n",
    "            for ob in tracking._objectes:\n",
    "                cv.putText(roi, str(ob._id), ob._centroide, cv.FONT_HERSHEY_SIMPLEX, 0.3, (2255, 255, 0) )\n",
    "            \n",
    "        \n",
    "    \n",
    "    cv.imshow('roi', roi)\n",
    "    cv.imshow('MOG', tratada)\n",
    "    cv.imshow('frame', frame)\n",
    "    \n",
    "    \n",
    "    if cv.waitKey(1) == ord('q'):\n",
    "            break\n",
    "    \n",
    "    \n",
    "capture.release()\n",
    "cv.destroyAllWindows()\n"
   ]
  },
  {
   "cell_type": "code",
   "execution_count": 182,
   "metadata": {},
   "outputs": [],
   "source": [
    "capture.release()\n",
    "cv.destroyAllWindows()"
   ]
  }
 ],
 "metadata": {
  "kernelspec": {
   "display_name": "base",
   "language": "python",
   "name": "python3"
  },
  "language_info": {
   "codemirror_mode": {
    "name": "ipython",
    "version": 3
   },
   "file_extension": ".py",
   "mimetype": "text/x-python",
   "name": "python",
   "nbconvert_exporter": "python",
   "pygments_lexer": "ipython3",
   "version": "3.8.8"
  }
 },
 "nbformat": 4,
 "nbformat_minor": 2
}
