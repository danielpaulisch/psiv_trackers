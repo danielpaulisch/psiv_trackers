{
 "cells": [
  {
   "cell_type": "code",
   "execution_count": 77,
   "metadata": {},
   "outputs": [],
   "source": [
    "import cv2 as cv\n",
    "import os\n",
    "import numpy as np\n",
    "#import tracker1 as tr\n",
    "import tracker1\n",
    "#rom tracker1 import Objecte as o"
   ]
  },
  {
   "cell_type": "code",
   "execution_count": 144,
   "metadata": {},
   "outputs": [],
   "source": [
    "#tracker\n",
    "\n",
    "class Tracker():\n",
    "    \n",
    "    def __init__(self, objectes = [], ids = []):\n",
    "        self._objectes = objectes\n",
    "        self._ids = ids\n",
    "        \n",
    "\n",
    "\n",
    "    def deteccio(self, objectes_detectats):\n",
    "        \n",
    "        if self._objectes == []:\n",
    "            for i, new_object in enumerate(objectes_detectats):              \n",
    "                id = len(self._ids) + 1\n",
    "                new_object._id = id\n",
    "                \n",
    "                self._ids.append(id)\n",
    "                self._objectes.append(new_object)\n",
    "        \n",
    "        \n",
    "        else:\n",
    "            matriu_distancies = np.zeros((len(objectes_detectats), len(self._objectes)))\n",
    "            \n",
    "            for i, objecte in enumerate(self._objectes):\n",
    "                for j, objecte_candidat in enumerate(objectes_detectats):\n",
    "                    matriu_distancies[i,j] = objecte.dist_euclidean(objecte_candidat)\n",
    "            \n",
    "            \n",
    "            #valor_maximo = matriu_distancies.sum()\n",
    "            \n",
    "            if len(self._objectes) <= len(objectes_detectats):\n",
    "                for i in range (len(self._objectes)):\n",
    "                    ix_objectes, ix_detactats = np.where(matriu_distancies == np.min(matriu_distancies))\n",
    "                    self._objectes[int(ix_objectes)]._centroide = objectes_detectats[int(ix_detactats)]._centroide\n",
    "                    \n",
    "                    #matriu_distancies[ix_objectes, :] = valor_maximo\n",
    "                    #matriu_distancies[:, ix_detactats] = valor_maximo\n",
    "                    \n",
    "                for i in range(len(objectes_detectats) - len(self._objectes) ):\n",
    "                    ix_objectes, ix_detactats = np.where(matriu_distancies == np.min(matriu_distancies))\n",
    "                    \n",
    "                    new_object = objectes_detectats[int(ix_detactats)]\n",
    "                    id = len(self._ids) + 1\n",
    "                    new_object._id = id\n",
    "                    self._objectes.append(new_object)\n",
    "                    self._ids.append(id)\n",
    "                    \n",
    "                    #matriu_distancies[ix_objectes, :] = valor_maximo\n",
    "                    #matriu_distancies[:, ix_detactats] = valor_maximo\n",
    "            \n",
    "                \n",
    "            \n",
    "            \n",
    "            \n",
    "class Objecte():\n",
    "    \n",
    "    def __init__(self, centroide = (0,0), id = None):\n",
    "        self._centroide = centroide\n",
    "        self._id = id\n",
    "        \n",
    "    \n",
    "    def dist_euclidean(self, altre_centroide):\n",
    "        dist = (self._centroide[0] - altre_centroide._centroide[0]) ** 2 + (self._centroide[1] - altre_centroide._centroide[1]) ** 2\n",
    "        return dist\n"
   ]
  },
  {
   "cell_type": "code",
   "execution_count": 138,
   "metadata": {},
   "outputs": [],
   "source": [
    "tracking = Tracker()\n"
   ]
  },
  {
   "cell_type": "code",
   "execution_count": 54,
   "metadata": {},
   "outputs": [
    {
     "ename": "KeyboardInterrupt",
     "evalue": "",
     "output_type": "error",
     "traceback": [
      "\u001b[1;31m---------------------------------------------------------------------------\u001b[0m",
      "\u001b[1;31mKeyboardInterrupt\u001b[0m                         Traceback (most recent call last)",
      "\u001b[1;32m<ipython-input-54-bda5e8eed60c>\u001b[0m in \u001b[0;36m<module>\u001b[1;34m\u001b[0m\n\u001b[0;32m      3\u001b[0m \u001b[0mpath\u001b[0m \u001b[1;33m=\u001b[0m \u001b[1;34m'C:/Users/LENOVO/Documents/uni/4t/psiv/tracking/psiv_trackers/frames/'\u001b[0m\u001b[1;33m\u001b[0m\u001b[1;33m\u001b[0m\u001b[0m\n\u001b[0;32m      4\u001b[0m \u001b[1;32mwhile\u001b[0m \u001b[1;33m(\u001b[0m \u001b[0mcapture\u001b[0m\u001b[1;33m.\u001b[0m\u001b[0misOpened\u001b[0m\u001b[1;33m(\u001b[0m\u001b[1;33m)\u001b[0m\u001b[1;33m)\u001b[0m\u001b[1;33m:\u001b[0m\u001b[1;33m\u001b[0m\u001b[1;33m\u001b[0m\u001b[0m\n\u001b[1;32m----> 5\u001b[1;33m     \u001b[0mret\u001b[0m\u001b[1;33m,\u001b[0m \u001b[0mframe\u001b[0m \u001b[1;33m=\u001b[0m \u001b[0mcapture\u001b[0m\u001b[1;33m.\u001b[0m\u001b[0mread\u001b[0m\u001b[1;33m(\u001b[0m\u001b[1;33m)\u001b[0m\u001b[1;33m\u001b[0m\u001b[1;33m\u001b[0m\u001b[0m\n\u001b[0m\u001b[0;32m      6\u001b[0m     \u001b[1;32mif\u001b[0m \u001b[1;33m(\u001b[0m\u001b[0mret\u001b[0m \u001b[1;33m==\u001b[0m \u001b[1;32mTrue\u001b[0m\u001b[1;33m)\u001b[0m\u001b[1;33m:\u001b[0m\u001b[1;33m\u001b[0m\u001b[1;33m\u001b[0m\u001b[0m\n\u001b[0;32m      7\u001b[0m         \u001b[0mcv\u001b[0m\u001b[1;33m.\u001b[0m\u001b[0mimwrite\u001b[0m\u001b[1;33m(\u001b[0m\u001b[0mpath\u001b[0m \u001b[1;33m+\u001b[0m  \u001b[1;34m'img_%010d.jpg'\u001b[0m \u001b[1;33m%\u001b[0m \u001b[0mcount\u001b[0m\u001b[1;33m,\u001b[0m \u001b[0mframe\u001b[0m\u001b[1;33m)\u001b[0m\u001b[1;33m\u001b[0m\u001b[1;33m\u001b[0m\u001b[0m\n",
      "\u001b[1;31mKeyboardInterrupt\u001b[0m: "
     ]
    }
   ],
   "source": [
    "capture = cv.VideoCapture('output7.mp4')\n",
    "count = 0\n",
    "path = 'C:/Users/LENOVO/Documents/uni/4t/psiv/tracking/psiv_trackers/frames/'\n",
    "while ( capture.isOpened()):\n",
    "    ret, frame = capture.read()\n",
    "    if (ret == True):\n",
    "        cv.imwrite(path +  'img_%010d.jpg' % count, frame)\n",
    "        count += 1\n",
    "        if cv.waitKey(1) == ord('s'):\n",
    "            break\n",
    "    else:\n",
    "        break\n",
    "capture.release()\n",
    "cv.destroyAllWindows()\n",
    "\n",
    "#guardar imagene en un archivo"
   ]
  },
  {
   "cell_type": "code",
   "execution_count": 148,
   "metadata": {},
   "outputs": [
    {
     "ename": "IndexError",
     "evalue": "index 1 is out of bounds for axis 1 with size 1",
     "output_type": "error",
     "traceback": [
      "\u001b[1;31m---------------------------------------------------------------------------\u001b[0m",
      "\u001b[1;31mIndexError\u001b[0m                                Traceback (most recent call last)",
      "\u001b[1;32m<ipython-input-148-2ca11a0293d0>\u001b[0m in \u001b[0;36m<module>\u001b[1;34m\u001b[0m\n\u001b[0;32m     41\u001b[0m                 \u001b[0mobjetetos_detectados\u001b[0m\u001b[1;33m.\u001b[0m\u001b[0mappend\u001b[0m\u001b[1;33m(\u001b[0m\u001b[0mobjecte\u001b[0m\u001b[1;33m)\u001b[0m\u001b[1;33m\u001b[0m\u001b[1;33m\u001b[0m\u001b[0m\n\u001b[0;32m     42\u001b[0m \u001b[1;33m\u001b[0m\u001b[0m\n\u001b[1;32m---> 43\u001b[1;33m             \u001b[0mtracking\u001b[0m\u001b[1;33m.\u001b[0m\u001b[0mdeteccio\u001b[0m\u001b[1;33m(\u001b[0m\u001b[0mobjetetos_detectados\u001b[0m\u001b[1;33m)\u001b[0m\u001b[1;33m\u001b[0m\u001b[1;33m\u001b[0m\u001b[0m\n\u001b[0m\u001b[0;32m     44\u001b[0m \u001b[1;33m\u001b[0m\u001b[0m\n\u001b[0;32m     45\u001b[0m             \u001b[1;32mfor\u001b[0m \u001b[0mob\u001b[0m \u001b[1;32min\u001b[0m \u001b[0mtracking\u001b[0m\u001b[1;33m.\u001b[0m\u001b[0m_objectes\u001b[0m\u001b[1;33m:\u001b[0m\u001b[1;33m\u001b[0m\u001b[1;33m\u001b[0m\u001b[0m\n",
      "\u001b[1;32m<ipython-input-144-95cc727bea16>\u001b[0m in \u001b[0;36mdeteccio\u001b[1;34m(self, objectes_detectats)\u001b[0m\n\u001b[0;32m     25\u001b[0m             \u001b[1;32mfor\u001b[0m \u001b[0mi\u001b[0m\u001b[1;33m,\u001b[0m \u001b[0mobjecte\u001b[0m \u001b[1;32min\u001b[0m \u001b[0menumerate\u001b[0m\u001b[1;33m(\u001b[0m\u001b[0mself\u001b[0m\u001b[1;33m.\u001b[0m\u001b[0m_objectes\u001b[0m\u001b[1;33m)\u001b[0m\u001b[1;33m:\u001b[0m\u001b[1;33m\u001b[0m\u001b[1;33m\u001b[0m\u001b[0m\n\u001b[0;32m     26\u001b[0m                 \u001b[1;32mfor\u001b[0m \u001b[0mj\u001b[0m\u001b[1;33m,\u001b[0m \u001b[0mobjecte_candidat\u001b[0m \u001b[1;32min\u001b[0m \u001b[0menumerate\u001b[0m\u001b[1;33m(\u001b[0m\u001b[0mobjectes_detectats\u001b[0m\u001b[1;33m)\u001b[0m\u001b[1;33m:\u001b[0m\u001b[1;33m\u001b[0m\u001b[1;33m\u001b[0m\u001b[0m\n\u001b[1;32m---> 27\u001b[1;33m                     \u001b[0mmatriu_distancies\u001b[0m\u001b[1;33m[\u001b[0m\u001b[0mi\u001b[0m\u001b[1;33m,\u001b[0m\u001b[0mj\u001b[0m\u001b[1;33m]\u001b[0m \u001b[1;33m=\u001b[0m \u001b[0mobjecte\u001b[0m\u001b[1;33m.\u001b[0m\u001b[0mdist_euclidean\u001b[0m\u001b[1;33m(\u001b[0m\u001b[0mobjecte_candidat\u001b[0m\u001b[1;33m)\u001b[0m\u001b[1;33m\u001b[0m\u001b[1;33m\u001b[0m\u001b[0m\n\u001b[0m\u001b[0;32m     28\u001b[0m \u001b[1;33m\u001b[0m\u001b[0m\n\u001b[0;32m     29\u001b[0m \u001b[1;33m\u001b[0m\u001b[0m\n",
      "\u001b[1;31mIndexError\u001b[0m: index 1 is out of bounds for axis 1 with size 1"
     ]
    }
   ],
   "source": [
    "capture = cv.VideoCapture('output7.mp4')\n",
    "fgbg = cv.bgsegm.createBackgroundSubtractorMOG()\n",
    "\n",
    "tracking = Tracker()\n",
    "\n",
    "\n",
    "\n",
    "while ( capture.isOpened()):\n",
    "    ret, frame = capture.read()\n",
    "    if (ret == False): break\n",
    "    \n",
    "    \n",
    "    altura, ancho, _ = frame.shape\n",
    "    \n",
    "    \n",
    "    roi = frame[400:, :]\n",
    "    \n",
    "    \n",
    "    fgmaskMOG = fgbg.apply(roi)\n",
    "     \n",
    "    tratada = cv.dilate(fgmaskMOG, np.ones((3,3)), iterations=7)\n",
    "    tratada = cv.morphologyEx(tratada,cv.MORPH_OPEN, np.ones((30,30)))\n",
    "    \n",
    "    \n",
    "    #detectar objeto\n",
    "    objetetos_detectados = []\n",
    "    contours, _ = cv.findContours(tratada, cv.RETR_TREE, cv.CHAIN_APPROX_SIMPLE)\n",
    "    for cnt in contours:\n",
    "        area = cv.contourArea(cnt)\n",
    "        if area > 4000:\n",
    "        #Calculate area remove small elements (personas/motos)\n",
    "            #cv.drawContours(roi, [cnt], -1, (0, 255, 0), 2)\n",
    "            x, y, w, h = cv.boundingRect(cnt)\n",
    "            \n",
    "            if 0.6 < w/h:\n",
    "                cv.rectangle(roi, (x,y), (x + w, y + h), (0, 255, 0), 3)\n",
    "                \n",
    "                centroide = (int(x + w/2) ,int(y + h/2))\n",
    "                \n",
    "                objecte = Objecte(centroide)\n",
    "                objetetos_detectados.append(objecte)\n",
    "            \n",
    "            tracking.deteccio(objetetos_detectados)\n",
    "            \n",
    "            for ob in tracking._objectes:\n",
    "                cv.putText(roi, str(ob._id), ob._centroide, cv.FONT_HERSHEY_SIMPLEX, 0.3, (2255, 255, 0) )\n",
    "            \n",
    "        \n",
    "    \n",
    "    cv.imshow('roi', roi)\n",
    "    cv.imshow('MOG', tratada)\n",
    "    cv.imshow('frame', frame)\n",
    "    \n",
    "    \n",
    "    if cv.waitKey(1) == ord('q'):\n",
    "            break\n",
    "    \n",
    "    \n",
    "capture.release()\n",
    "cv.destroyAllWindows()\n"
   ]
  },
  {
   "cell_type": "code",
   "execution_count": 126,
   "metadata": {},
   "outputs": [],
   "source": [
    "capture.release()\n",
    "cv.destroyAllWindows()"
   ]
  }
 ],
 "metadata": {
  "kernelspec": {
   "display_name": "base",
   "language": "python",
   "name": "python3"
  },
  "language_info": {
   "codemirror_mode": {
    "name": "ipython",
    "version": 3
   },
   "file_extension": ".py",
   "mimetype": "text/x-python",
   "name": "python",
   "nbconvert_exporter": "python",
   "pygments_lexer": "ipython3",
   "version": "3.8.8"
  }
 },
 "nbformat": 4,
 "nbformat_minor": 2
}
