{
 "cells": [
  {
   "cell_type": "code",
   "execution_count": 1,
   "metadata": {},
   "outputs": [],
   "source": [
    "import cv2 as cv\n",
    "import os\n",
    "import numpy as np\n",
    "#from tracker import *\n"
   ]
  },
  {
   "cell_type": "code",
   "execution_count": 60,
   "metadata": {},
   "outputs": [
    {
     "ename": "NameError",
     "evalue": "name 'EuclideanDistTracker' is not defined",
     "output_type": "error",
     "traceback": [
      "\u001b[1;31m---------------------------------------------------------------------------\u001b[0m",
      "\u001b[1;31mNameError\u001b[0m                                 Traceback (most recent call last)",
      "\u001b[1;32m<ipython-input-60-eb8d3491e3ab>\u001b[0m in \u001b[0;36m<module>\u001b[1;34m\u001b[0m\n\u001b[0;32m      1\u001b[0m \u001b[1;31m#tracker\u001b[0m\u001b[1;33m\u001b[0m\u001b[1;33m\u001b[0m\u001b[1;33m\u001b[0m\u001b[0m\n\u001b[0;32m      2\u001b[0m \u001b[1;33m\u001b[0m\u001b[0m\n\u001b[1;32m----> 3\u001b[1;33m \u001b[0mtracker_euclidine\u001b[0m \u001b[1;33m=\u001b[0m \u001b[0mEuclideanDistTracker\u001b[0m\u001b[1;33m(\u001b[0m\u001b[1;33m)\u001b[0m\u001b[1;33m\u001b[0m\u001b[1;33m\u001b[0m\u001b[0m\n\u001b[0m",
      "\u001b[1;31mNameError\u001b[0m: name 'EuclideanDistTracker' is not defined"
     ]
    }
   ],
   "source": [
    "#tracker\n",
    "\n",
    "tracker_euclidine = EuclideanDistTracker()"
   ]
  },
  {
   "cell_type": "code",
   "execution_count": null,
   "metadata": {},
   "outputs": [],
   "source": [
    "capture = cv.VideoCapture('output7.mp4')\n",
    "count = 0\n",
    "path = 'C:/Users/LENOVO/Documents/uni/4t/psiv/tracking/psiv_trackers/frames/'\n",
    "while ( capture.isOpened()):\n",
    "    ret, frame = capture.read()\n",
    "    if (ret == True):\n",
    "        cv.imwrite(path +  'img_%010d.jpg' % count, frame)\n",
    "        count += 1\n",
    "        if cv.waitKey(1) == ord('s'):\n",
    "            break\n",
    "    else:\n",
    "        break\n",
    "capture.release()\n",
    "cv.destroyAllWindows()\n",
    "\n",
    "#guardar imagene en un archivo"
   ]
  },
  {
   "cell_type": "code",
   "execution_count": null,
   "metadata": {},
   "outputs": [],
   "source": [
    "capture = cv.VideoCapture('output7.mp4')\n",
    "fgbg = cv.bgsegm.createBackgroundSubtractorMOG()\n",
    "\n",
    "\n",
    "\n",
    "\n",
    "\n",
    "while ( capture.isOpened()):\n",
    "    ret, frame = capture.read()\n",
    "    if (ret == False): break\n",
    "    \n",
    "    \n",
    "    altura, ancho, _ = frame.shape\n",
    "    print( altura, ancho)\n",
    "    \n",
    "    roi = frame[400:, :]\n",
    "    \n",
    "    \n",
    "    fgmaskMOG = fgbg.apply(roi)\n",
    "     \n",
    "    tratada = cv.dilate(fgmaskMOG, np.ones((3,3)), iterations=7)\n",
    "    tratada = cv.morphologyEx(tratada,cv.MORPH_OPEN, np.ones((40,30)))\n",
    "    \n",
    "    \n",
    "    #detectar objeto\n",
    "    contours, _ = cv.findContours(tratada, cv.RETR_TREE, cv.CHAIN_APPROX_SIMPLE)\n",
    "    for cnt in contours:\n",
    "        area = cv.contourArea(cnt)\n",
    "        if area > 1500:\n",
    "        #Calculate area remove small elements (personas/motos)\n",
    "            #cv.drawContours(roi, [cnt], -1, (0, 255, 0), 2)\n",
    "            x, y, w, h = cv.boundingRect(cnt)\n",
    "            cv.rectangle(roi, (x,y), (x + w, y + h), (0, 255, 0), 3)\n",
    "        \n",
    "    \n",
    "    cv.imshow('roi', roi)\n",
    "    cv.imshow('MOG', tratada)\n",
    "    cv.imshow('frame', frame)\n",
    "    \n",
    "    \n",
    "    if cv.waitKey(1) == ord('q'):\n",
    "            break\n",
    "    \n",
    "    \n",
    "capture.release()\n",
    "cv.destroyAllWindows()\n"
   ]
  },
  {
   "cell_type": "code",
   "execution_count": 48,
   "metadata": {},
   "outputs": [],
   "source": [
    "capture.release()\n",
    "cv.destroyAllWindows()"
   ]
  }
 ],
 "metadata": {
  "kernelspec": {
   "display_name": "base",
   "language": "python",
   "name": "python3"
  },
  "language_info": {
   "codemirror_mode": {
    "name": "ipython",
    "version": 3
   },
   "file_extension": ".py",
   "mimetype": "text/x-python",
   "name": "python",
   "nbconvert_exporter": "python",
   "pygments_lexer": "ipython3",
   "version": "3.8.8"
  }
 },
 "nbformat": 4,
 "nbformat_minor": 2
}
